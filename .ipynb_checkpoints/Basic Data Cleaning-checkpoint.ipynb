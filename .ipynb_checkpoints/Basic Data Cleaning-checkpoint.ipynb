{
 "cells": [
  {
   "cell_type": "markdown",
   "id": "594e2266",
   "metadata": {},
   "source": [
    "## Agenda\n",
    "### Part 0: Basic Data Cleaning\n",
    "The first step is to do some basic data cleaning and rid of all the columns that won't be of any use acrross any of the projects going forward, and add some useful columns to the dataset based on the existing ones that will come handy in both Data Analysis and ML/NLP.\n",
    "\n",
    "* **Drop:**\n",
    "['Name', 'AuthorName', 'CookTime', 'PrepTime', 'TotalTime', 'DatePublished', 'Description', 'Images', 'ReviewCount', 'RecipeServings', 'RecipeYield', 'RecipeInstructions', 'url']\n",
    "\n",
    "* **Add:**\n",
    "['TotalMinutes', 'YearPublished', 'MonthPublished', 'DayPublished', 'HourPublished']\n",
    "\n",
    "* **Replace:**\n",
    "['RecipeIngredientQuantities', 'RecipeIngredientParts'] with ones scraped from food.com froms scratch.\n",
    "\n",
    "**Save:**\n",
    "BasicCleanData.pkl\n",
    "\n",
    "We can perform classical data analysis on BasicCleanData.pkl\n"
   ]
  },
  {
   "cell_type": "code",
   "execution_count": null,
   "id": "1ddb4b27",
   "metadata": {},
   "outputs": [],
   "source": []
  },
  {
   "cell_type": "code",
   "execution_count": null,
   "id": "c04ed70d",
   "metadata": {},
   "outputs": [],
   "source": []
  },
  {
   "cell_type": "code",
   "execution_count": null,
   "id": "64d81c5d",
   "metadata": {},
   "outputs": [],
   "source": []
  },
  {
   "cell_type": "code",
   "execution_count": null,
   "id": "15a99569",
   "metadata": {},
   "outputs": [],
   "source": []
  }
 ],
 "metadata": {
  "kernelspec": {
   "display_name": "Python 3 (ipykernel)",
   "language": "python",
   "name": "python3"
  },
  "language_info": {
   "codemirror_mode": {
    "name": "ipython",
    "version": 3
   },
   "file_extension": ".py",
   "mimetype": "text/x-python",
   "name": "python",
   "nbconvert_exporter": "python",
   "pygments_lexer": "ipython3",
   "version": "3.10.11"
  }
 },
 "nbformat": 4,
 "nbformat_minor": 5
}
